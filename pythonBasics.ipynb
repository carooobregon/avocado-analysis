{
 "cells": [
  {
   "cell_type": "markdown",
   "metadata": {},
   "source": [
    "# Secciones\n",
    "- [Tipaje dinámico](#dynamically_typed)\n",
    "- [Control de Flujo](#control_flow)\n",
    "- [Indentaciones](#whitespace_Formatting)\n",
    "- [Ciclos](#cycles)\n",
    "- [Colecciones](#colections)\n",
    "- [Listas](#lists)\n",
    "- [Slicing](#slicing)\n",
    "- [Tuples](#tuples)\n",
    "- [Diccionarios](#dictionaries)\n",
    "- [Sets](#sets)\n",
    "- [Funciones](#functions)\n",
    "- [Módulos](#modules)\n",
    "- [NumPy](#numPy)"
   ]
  },
  {
   "cell_type": "markdown",
   "metadata": {},
   "source": [
    "<a id='dynamically_typed'></a>\n",
    "# Tipaje dinámico\n",
    "\n",
    "Python es un lenguaje con tipaje dinámico, en el que no es requisito declarar el tipo de la variable. El tipaje de la variable es revisado en tiempo de ejecución por el intérprete de Python."
   ]
  },
  {
   "cell_type": "code",
   "execution_count": 1,
   "metadata": {},
   "outputs": [
    {
     "name": "stdout",
     "output_type": "stream",
     "text": [
      "Age type <class 'int'>\n",
      "Name type <class 'str'>\n",
      "Money type <class 'float'>\n",
      "Employed type <class 'bool'>\n",
      "CompNum type <class 'complex'>\n"
     ]
    }
   ],
   "source": [
    "age = 23\n",
    "name = 'Jacob'\n",
    "money = 100.50\n",
    "employed = False\n",
    "compNum = 2+3j\n",
    "\n",
    "print(\"Age type\", type(age))\n",
    "print(\"Name type\", type(name))\n",
    "print(\"Money type\", type(money))\n",
    "print(\"Employed type\", type(employed))\n",
    "print(\"CompNum type\", type(compNum))"
   ]
  },
  {
   "cell_type": "markdown",
   "metadata": {},
   "source": [
    "Python es un lenguaje fuertemente tipado, en el que las variables están asociados a un tipo y hacer operaciones que no coinciden con el tipo ocasiona errores, por ejemplo:"
   ]
  },
  {
   "cell_type": "code",
   "execution_count": 2,
   "metadata": {},
   "outputs": [
    {
     "name": "stdout",
     "output_type": "stream",
     "text": [
      "Error: Python is strongly typed\n"
     ]
    }
   ],
   "source": [
    "try:\n",
    "    print(age + name)\n",
    "except TypeError:\n",
    "    print(\"Error: Python is strongly typed\")"
   ]
  },
  {
   "cell_type": "code",
   "execution_count": 3,
   "metadata": {},
   "outputs": [
    {
     "name": "stdout",
     "output_type": "stream",
     "text": [
      "23Jacob\n"
     ]
    }
   ],
   "source": [
    "try:\n",
    "    print(str(age) + name)\n",
    "except TypeError:\n",
    "    print(\"Python is strongly typed\")"
   ]
  },
  {
   "cell_type": "markdown",
   "metadata": {},
   "source": [
    "<a id='control_flow'></a>\n",
    "# Control de flujo\n",
    "El flujo de ejecución en Python puede ser modificado utilizando la cláusala __if__, la cual puede ser acompañada de __elif__ y __else__ . Por ejemplo:"
   ]
  },
  {
   "cell_type": "code",
   "execution_count": 4,
   "metadata": {},
   "outputs": [
    {
     "name": "stdout",
     "output_type": "stream",
     "text": [
      "Input a number 42\n",
      "x is even and non-negative\n"
     ]
    }
   ],
   "source": [
    "x = int(input(\"Input a number \"))\n",
    "if x < 0:\n",
    "    print(\"x is negative\")\n",
    "elif x % 2:\n",
    "    print(\"x is positive and odd\")\n",
    "else:\n",
    "    print(\"x is even and non-negative\")"
   ]
  },
  {
   "cell_type": "raw",
   "metadata": {},
   "source": [
    "La syntaxis para el control de flujo en Python es:\n",
    "\n",
    "if expression:\n",
    "    statement(s)\n",
    "elif expression:\n",
    "    statement(s)\n",
    "elif expression:\n",
    "    statement(s)\n",
    "...\n",
    "else:\n",
    "    statement(s)"
   ]
  },
  {
   "cell_type": "markdown",
   "metadata": {},
   "source": [
    "<a id='whitespace_Formatting'></a>\n",
    "# Indentaciones\n",
    "Múltiples _statements_ que se ejecutan de forma continúa se les conoce como bloques.\n",
    "\n",
    "Python utiliza la indentación para delimitar bloques de código.\n",
    "\n",
    "El uso de indentaciones otorga un estilo legible a Python, no obstante hay que ser cuidadosos en cómo delimitamos los bloques, ya que una incorrecta indentación ocasionará el siguiente error."
   ]
  },
  {
   "cell_type": "code",
   "execution_count": 5,
   "metadata": {},
   "outputs": [
    {
     "ename": "IndentationError",
     "evalue": "expected an indented block (<ipython-input-5-c4b697a93ec3>, line 8)",
     "output_type": "error",
     "traceback": [
      "\u001b[1;36m  File \u001b[1;32m\"<ipython-input-5-c4b697a93ec3>\"\u001b[1;36m, line \u001b[1;32m8\u001b[0m\n\u001b[1;33m    print(\"Unlucky\")\u001b[0m\n\u001b[1;37m        ^\u001b[0m\n\u001b[1;31mIndentationError\u001b[0m\u001b[1;31m:\u001b[0m expected an indented block\n"
     ]
    }
   ],
   "source": [
    "match_result = 'victory'\n",
    "if(match_result == 'victory'):\n",
    "    print(\"GG WP\")\n",
    "    print(\":)\")\n",
    "elif (match_result == 'draw'):\n",
    "    print(\"Rematch?\")\n",
    "else:    \n",
    "print(\"Unlucky\")\n",
    "print(\":(\")"
   ]
  },
  {
   "cell_type": "markdown",
   "metadata": {},
   "source": [
    "Para arreglarlo es sólo cuestión de indentar apropiadamente el último bloque:"
   ]
  },
  {
   "cell_type": "code",
   "execution_count": 6,
   "metadata": {},
   "outputs": [
    {
     "name": "stdout",
     "output_type": "stream",
     "text": [
      "GG WP\n",
      ":)\n"
     ]
    }
   ],
   "source": [
    "match_result = 'victory'\n",
    "if(match_result == 'victory'):\n",
    "    print(\"GG WP\")\n",
    "    print(\":)\")\n",
    "elif (match_result == 'draw'):\n",
    "    print(\"Rematch?\")\n",
    "else:    \n",
    "    print(\"Unlucky\")\n",
    "    print(\":(\")"
   ]
  },
  {
   "cell_type": "markdown",
   "metadata": {},
   "source": [
    "<a id='cycles'></a>\n",
    "# Ciclos"
   ]
  },
  {
   "cell_type": "markdown",
   "metadata": {},
   "source": [
    "El ciclo __for__ en Python es utilizado para repetir un bloque de código, el número de repeticiones está en función de una expresión iterable."
   ]
  },
  {
   "cell_type": "raw",
   "metadata": {},
   "source": [
    "La syntaxis para el ciclo en Python es:\n",
    "\n",
    "for target in iterable:\n",
    "    statement(s)"
   ]
  },
  {
   "cell_type": "markdown",
   "metadata": {},
   "source": [
    "*target* es una variable que controla el ciclo, la cual toma el valor de un elemento del *iterable* hasta que termina de iterarlo, en cada iteración se ejecuta el cuerpo del for, por ejemplo:"
   ]
  },
  {
   "cell_type": "code",
   "execution_count": 7,
   "metadata": {},
   "outputs": [
    {
     "name": "stdout",
     "output_type": "stream",
     "text": [
      "give me a C ...\n",
      "give me a l ...\n",
      "give me a o ...\n",
      "give me a u ...\n",
      "give me a d ...\n",
      "give me a 9 ...\n"
     ]
    }
   ],
   "source": [
    "for letter in \"Cloud9\":\n",
    "    print(\"give me a\", letter, \"...\")"
   ]
  },
  {
   "cell_type": "markdown",
   "metadata": {},
   "source": [
    "Al igual que los __if__ *statments* los bloques de código en los ciclos son delimitados por las indentaciones:"
   ]
  },
  {
   "cell_type": "code",
   "execution_count": 8,
   "metadata": {},
   "outputs": [
    {
     "name": "stdout",
     "output_type": "stream",
     "text": [
      "A\n",
      "1\n",
      "2\n",
      "2\n",
      "3\n",
      "A\n",
      "B\n",
      "1\n",
      "2\n",
      "2\n",
      "3\n",
      "B\n",
      "END\n"
     ]
    }
   ],
   "source": [
    "for i in ['A','B']:  \n",
    "    print(i)                    #first line in \"for i\" block  \n",
    "    for j in [1,2]:  \n",
    "        print(j)                #first line in \"for j\" block  \n",
    "        print(j+1)              #last line in \"for j\" block  \n",
    "    print(i)                    #last line in \"for i\" block  \n",
    "print(\"END\")  "
   ]
  },
  {
   "cell_type": "markdown",
   "metadata": {},
   "source": [
    "Iterar sobre una secuencia de números es común en Python, por ello existen funciones inherentes en el lenguaje, como __range__"
   ]
  },
  {
   "cell_type": "raw",
   "metadata": {},
   "source": [
    "La syntaxis para usar range es:\n",
    "\n",
    "for i in range(n):\n",
    "    statement(s)"
   ]
  },
  {
   "cell_type": "markdown",
   "metadata": {},
   "source": [
    "__range(x)__ regresa una lista de números consecutivos del 0 (incluido) al _x_ (excluido)\n",
    "\n",
    "__range(x,y)__ regresa una lista de números consecutivos de la _x_ (incluido) al _y_ (excluido)\n",
    "\n",
    "__range(x,y,step)__ regresa una lista de números de la _x_ (incluido) al _y_ (excluido), en donde cada elemento adyacente en la lista está seperado por una cantidad _step_"
   ]
  },
  {
   "cell_type": "code",
   "execution_count": 9,
   "metadata": {},
   "outputs": [
    {
     "name": "stdout",
     "output_type": "stream",
     "text": [
      "5\n",
      "7\n",
      "9\n"
     ]
    }
   ],
   "source": [
    "for i in range(5,10,2):\n",
    "    print(i)"
   ]
  },
  {
   "cell_type": "markdown",
   "metadata": {},
   "source": [
    "<a id='colections'></a>\n",
    "# Colecciones\n",
    "Python cuenta con 4 colecciones inherentes, las cuales sirven para agrupar datos:\n",
    "\n",
    "- _List_ es una colección ordenada y modificable, permite elementos duplicados.\n",
    "- _Tuple_ es una colección ordenada y no modificable, permite elementos duplicados.\n",
    "- _Dictionary_ es una colección no ordenada, modificable, indexada y no permite elementos duplicados.\n",
    "- _Set_ es una colección ordenada no indexada y no permite elementos duplciados."
   ]
  },
  {
   "cell_type": "markdown",
   "metadata": {},
   "source": [
    "<a id='lists'></a>\n",
    "# Listas\n",
    "\n",
    "- _List_ es una colección ordenada y modificable, permite elementos duplicados.\n",
    "\n",
    "Para declarar una lista se utilizan los [] y se engloban los elementos deseados, por ejemplo:"
   ]
  },
  {
   "cell_type": "code",
   "execution_count": 10,
   "metadata": {},
   "outputs": [
    {
     "name": "stdout",
     "output_type": "stream",
     "text": [
      "['string', 3, True]\n"
     ]
    }
   ],
   "source": [
    "char_list = ['A','B','C','D','E','F']\n",
    "heterogenous_list = [\"string\", 3, True]\n",
    "list_of_lists = [char_list, heterogenous_list, []]\n",
    "colors = ['red','green','blue','yellow','white','black']\n",
    "\n",
    "print(heterogenous_list)"
   ]
  },
  {
   "cell_type": "markdown",
   "metadata": {},
   "source": [
    "Cada elemento de la lista se puede referenciar mediante su índice, por ejemplo:"
   ]
  },
  {
   "cell_type": "code",
   "execution_count": 11,
   "metadata": {},
   "outputs": [
    {
     "name": "stdout",
     "output_type": "stream",
     "text": [
      "First element:  red\n"
     ]
    }
   ],
   "source": [
    "print(\"First element: \", colors[0])"
   ]
  },
  {
   "cell_type": "markdown",
   "metadata": {},
   "source": [
    "Los elementos de las listas se pueden accesar por su respectivo índice:"
   ]
  },
  {
   "cell_type": "markdown",
   "metadata": {},
   "source": [
    "![Image of index](https://railsware.com/blog/wp-content/uploads/2018/10/positive-indexes.png)"
   ]
  },
  {
   "cell_type": "markdown",
   "metadata": {},
   "source": [
    "En muchas instancias, vamos a requerir accesar al último o penúltimo elemento de la lista, para acceder a ello se utilizan índices negativos, por ejemplo para referenciar al elemento ´black´ utilizaríamos el índice -1"
   ]
  },
  {
   "cell_type": "markdown",
   "metadata": {},
   "source": [
    "![Image of negative_index](https://railsware.com/blog/wp-content/uploads/2018/10/negative-indexes.png)"
   ]
  },
  {
   "cell_type": "markdown",
   "metadata": {},
   "source": [
    "El contenido de las listas se puede modificar utilizando el operador de asignación __=__"
   ]
  },
  {
   "cell_type": "code",
   "execution_count": 12,
   "metadata": {},
   "outputs": [
    {
     "data": {
      "text/plain": [
       "['red', 'green', 'blue', 'yellow', 'pink', 'black']"
      ]
     },
     "execution_count": 12,
     "metadata": {},
     "output_type": "execute_result"
    }
   ],
   "source": [
    "colors[-2] = 'pink'\n",
    "colors"
   ]
  },
  {
   "cell_type": "markdown",
   "metadata": {},
   "source": [
    "Para revisar si un elemento existe en una lista, se puede usar el operador __in__, por ejemplo:"
   ]
  },
  {
   "cell_type": "code",
   "execution_count": 13,
   "metadata": {},
   "outputs": [
    {
     "name": "stdout",
     "output_type": "stream",
     "text": [
      "Is red on colors? True\n",
      "Is gold in colors? False\n"
     ]
    }
   ],
   "source": [
    "print(\"Is red on colors?\", 'red' in colors)\n",
    "print(\"Is gold in colors?\", 'gold' in colors)"
   ]
  },
  {
   "cell_type": "markdown",
   "metadata": {},
   "source": [
    "Para agregar elementos a una lista, se puede hacer de las siguientes formas:"
   ]
  },
  {
   "cell_type": "code",
   "execution_count": 14,
   "metadata": {},
   "outputs": [
    {
     "data": {
      "text/plain": [
       "[1, 2, 3, 4]"
      ]
     },
     "execution_count": 14,
     "metadata": {},
     "output_type": "execute_result"
    }
   ],
   "source": [
    "x = [1,2,3]\n",
    "x.append(4)\n",
    "x"
   ]
  },
  {
   "cell_type": "code",
   "execution_count": 15,
   "metadata": {},
   "outputs": [
    {
     "data": {
      "text/plain": [
       "[1, 2, 3, 4, 5, 6, 7]"
      ]
     },
     "execution_count": 15,
     "metadata": {},
     "output_type": "execute_result"
    }
   ],
   "source": [
    "x += [5,6,7]\n",
    "x"
   ]
  },
  {
   "cell_type": "code",
   "execution_count": 16,
   "metadata": {},
   "outputs": [
    {
     "data": {
      "text/plain": [
       "[1, 2, 3, 4, 5, 6, 7, 8, 9, 10]"
      ]
     },
     "execution_count": 16,
     "metadata": {},
     "output_type": "execute_result"
    }
   ],
   "source": [
    "x.extend([8,9,10])\n",
    "x"
   ]
  },
  {
   "cell_type": "markdown",
   "metadata": {},
   "source": [
    "<a id='slicing'></a>\n",
    "# Slicing a list\n",
    "\n",
    "Una funcionalidad muy relevante de las listas es el _slicing_ , la cual nos permite referenciar a sublistas dentro de la lista. Una sublista es generada mediante el uso de corchetes [] como sufijo en el nombre de la lista. \n",
    "\n",
    "Hay 3 argumentos que pueden ser utilizados dentro de los corchetes para definir la sublista, \\[start,stop,step\\] \n",
    "\n",
    "La variable start indica el índice del primer elemento de la sublista. Stop indica el último índice de la sublista, el elemento de dicho índice no es parte de la sublista generada. Step indica el incremento o decremento del índice entre cada elemento que se toma."
   ]
  },
  {
   "cell_type": "markdown",
   "metadata": {},
   "source": [
    "Por ejemplo, a partir de una lista de número podemos referenciar una sublista de la siguiente forma"
   ]
  },
  {
   "cell_type": "code",
   "execution_count": 17,
   "metadata": {},
   "outputs": [
    {
     "name": "stdout",
     "output_type": "stream",
     "text": [
      "[30, 40, 50, 60, 70]\n"
     ]
    }
   ],
   "source": [
    "nums = [10, 20, 30, 40, 50, 60, 70, 80, 90]\n",
    "some_nums = nums[2:7]  \n",
    "print(some_nums)"
   ]
  },
  {
   "cell_type": "markdown",
   "metadata": {},
   "source": [
    "![Image of slicing](https://railsware.com/blog/wp-content/uploads/2018/10/first-slice.png)"
   ]
  },
  {
   "cell_type": "markdown",
   "metadata": {},
   "source": [
    "Las operaciones de slicing se pueden resumir en los siguientes puntos:\n",
    "\n",
    "- id[start:stop] # items from index start through index stop-1\n",
    "- id[start:] # items from index start through the rest of the array\n",
    "- id[:stop] # items from the beginning through index stop-1\n",
    "- id[:] # copy of the whole array\n",
    "- id[start:stop:step] # items from index start through index stop-1, each index is incremented or decremented by the amount step"
   ]
  },
  {
   "cell_type": "code",
   "execution_count": 18,
   "metadata": {},
   "outputs": [],
   "source": [
    "char_list = ['A','B','C','D','E','F']"
   ]
  },
  {
   "cell_type": "code",
   "execution_count": 19,
   "metadata": {},
   "outputs": [
    {
     "name": "stdout",
     "output_type": "stream",
     "text": [
      "First 3 elements ['A', 'B', 'C']\n",
      "After third to end ['D', 'E', 'F']\n",
      "Middle slice ['B', 'C']\n",
      "Taking all but the last 2 ['A', 'B', 'C', 'D']\n",
      "Take every 2nd element of a list ['A', 'C', 'E']\n",
      "Negative steps to reverse the list ['F', 'E', 'D', 'C', 'B', 'A']\n"
     ]
    }
   ],
   "source": [
    "print(\"First 3 elements\", char_list[:3])\n",
    "print(\"After third to end\", char_list[3:])\n",
    "print(\"Middle slice\", char_list[1:3])\n",
    "print(\"Taking all but the last 2\", char_list[:-2])\n",
    "print(\"Take every 2nd element of a list\", char_list[::2])\n",
    "print(\"Negative steps to reverse the list\", char_list[::-1])"
   ]
  },
  {
   "cell_type": "markdown",
   "metadata": {},
   "source": [
    "Slicing es una herramienta fundamental para la ciencia de datos, revisen el siguiente tutorial dinámico para afianzar su conocimiento de listas\n",
    "https://www.oreilly.com/learning/how-do-i-use-the-slice-notation-in-python"
   ]
  },
  {
   "cell_type": "markdown",
   "metadata": {},
   "source": [
    "<a id='tuples'></a>\n",
    "# Tuples\n",
    "\n",
    "_Tuple_ es una colección ordenada y no modificable, permite elementos duplicados.\n",
    "\n",
    "Para la creación de los tuples, es sólo necesario hacer una enumeración de elementos separados por comas, por convención es recomendado poner dicha enumeración entre paréntesis."
   ]
  },
  {
   "cell_type": "code",
   "execution_count": 20,
   "metadata": {},
   "outputs": [
    {
     "name": "stdout",
     "output_type": "stream",
     "text": [
      "Cannot modify a tuple!!!\n"
     ]
    }
   ],
   "source": [
    "my_tuple = (1,2,3)\n",
    "other_tuple = 3,4\n",
    "\n",
    "try:\n",
    "    my_tuple[1] = 7\n",
    "except TypeError:\n",
    "    print(\"Cannot modify a tuple!!!\")"
   ]
  },
  {
   "cell_type": "markdown",
   "metadata": {},
   "source": [
    "El operador __in__ también funciona en tuples para verificar si un elemento pertenece a los tuples."
   ]
  },
  {
   "cell_type": "code",
   "execution_count": 21,
   "metadata": {},
   "outputs": [
    {
     "name": "stdout",
     "output_type": "stream",
     "text": [
      "True\n",
      "False\n"
     ]
    }
   ],
   "source": [
    "my_tuple = ('a','p','p','l','e')\n",
    "print('a' in my_tuple)\n",
    "print('b' in my_tuple)"
   ]
  },
  {
   "cell_type": "markdown",
   "metadata": {},
   "source": [
    "# Slicing a tuple\n",
    "\n",
    "El _slicing_ también puede ser aplicado a los tuple y sigue la misma convenciones que en las listas."
   ]
  },
  {
   "cell_type": "code",
   "execution_count": 22,
   "metadata": {},
   "outputs": [
    {
     "data": {
      "text/plain": [
       "('r', 'o', 'g')"
      ]
     },
     "execution_count": 22,
     "metadata": {},
     "output_type": "execute_result"
    }
   ],
   "source": [
    "my_tuple = ('p','r','o','g','r','a','m')\n",
    "my_tuple[1:4]"
   ]
  },
  {
   "cell_type": "code",
   "execution_count": 23,
   "metadata": {},
   "outputs": [
    {
     "data": {
      "text/plain": [
       "('p', 'r', 'o', 'g', 'r', 'a')"
      ]
     },
     "execution_count": 23,
     "metadata": {},
     "output_type": "execute_result"
    }
   ],
   "source": [
    "my_tuple[:-1]"
   ]
  },
  {
   "cell_type": "markdown",
   "metadata": {},
   "source": [
    "<a id='dictionaries'></a>\n",
    "# Diccionarios\n",
    "\n",
    "_Dictionary_ es una colección no ordenada, modificable, indexada y no permite elementos duplicados.\n",
    "\n",
    "Los diccionarios hacen un mapea de objetos con llaves, por lo que un elemento del diccionario es un par de llave-objeto. \n",
    "\n",
    "Para generar un diccionario, se enumeran elementos (par llave:objeto) separados por comas, dicha enumeracion va entre brackets {}"
   ]
  },
  {
   "cell_type": "code",
   "execution_count": 24,
   "metadata": {},
   "outputs": [],
   "source": [
    "grades = {'Jose':92, 'Maria':95, 'Claudia':87 }      # Dictionary with three items and string keys\n",
    "d1 = { 1:2, 3:4 }                    # Dictionary with two items and integer keys"
   ]
  },
  {
   "cell_type": "markdown",
   "metadata": {},
   "source": [
    "Para referenciar un valor del diccionario, sólo se requiere utilizar la llave asociada a él:"
   ]
  },
  {
   "cell_type": "code",
   "execution_count": 25,
   "metadata": {},
   "outputs": [
    {
     "data": {
      "text/plain": [
       "92"
      ]
     },
     "execution_count": 25,
     "metadata": {},
     "output_type": "execute_result"
    }
   ],
   "source": [
    "grades['Jose']"
   ]
  },
  {
   "cell_type": "markdown",
   "metadata": {},
   "source": [
    "Si una llave aparece más de una vez en el diccionario, sólo permanecerá el último elemento con esa llave"
   ]
  },
  {
   "cell_type": "code",
   "execution_count": 26,
   "metadata": {},
   "outputs": [
    {
     "data": {
      "text/plain": [
       "99"
      ]
     },
     "execution_count": 26,
     "metadata": {},
     "output_type": "execute_result"
    }
   ],
   "source": [
    "grades = {'Jose':92, 'Maria':95, 'Claudia':87, 'Jose': 99 }\n",
    "grades['Jose']"
   ]
  },
  {
   "cell_type": "markdown",
   "metadata": {},
   "source": [
    "Para agregar un nuevo elemento al diccionario se utiliza el operador de asignación __=__ , se debe indicar cuál será la llave de dicho elemento, por ejemplo:"
   ]
  },
  {
   "cell_type": "code",
   "execution_count": 27,
   "metadata": {},
   "outputs": [
    {
     "data": {
      "text/plain": [
       "{'Jose': 99, 'Maria': 95, 'Claudia': 87, 'Carlos': 100}"
      ]
     },
     "execution_count": 27,
     "metadata": {},
     "output_type": "execute_result"
    }
   ],
   "source": [
    "grades['Carlos'] = 100\n",
    "grades"
   ]
  },
  {
   "cell_type": "markdown",
   "metadata": {},
   "source": [
    "El operador __in__ también funciona en los diccionarios para verificar si una __llave__ está presente en el diccionario."
   ]
  },
  {
   "cell_type": "code",
   "execution_count": 28,
   "metadata": {},
   "outputs": [
    {
     "name": "stdout",
     "output_type": "stream",
     "text": [
      "Is Jose in grades? True\n",
      "Is Veronica in grades? False\n"
     ]
    }
   ],
   "source": [
    "print(\"Is Jose in grades?\", 'Jose' in grades)\n",
    "print(\"Is Veronica in grades?\", 'Veronica' in grades)"
   ]
  },
  {
   "cell_type": "markdown",
   "metadata": {},
   "source": [
    "Los atributos del diccionario pueden ser accesados de la siguiente forma:"
   ]
  },
  {
   "cell_type": "code",
   "execution_count": 29,
   "metadata": {},
   "outputs": [
    {
     "name": "stdout",
     "output_type": "stream",
     "text": [
      "Number of students 4\n",
      "Keys  dict_keys(['Jose', 'Maria', 'Claudia', 'Carlos'])\n",
      "Values  dict_values([99, 95, 87, 100])\n",
      "Items  dict_items([('Jose', 99), ('Maria', 95), ('Claudia', 87), ('Carlos', 100)])\n"
     ]
    }
   ],
   "source": [
    "print(\"Number of students\", len(grades))\n",
    "print(\"Keys \", grades.keys())\n",
    "print(\"Values \", grades.values())\n",
    "print(\"Items \", grades.items())"
   ]
  },
  {
   "cell_type": "markdown",
   "metadata": {},
   "source": [
    "Para eliminar un elemento del diccionario, se utiliza __del__ :"
   ]
  },
  {
   "cell_type": "code",
   "execution_count": 30,
   "metadata": {},
   "outputs": [
    {
     "data": {
      "text/plain": [
       "{'Jose': 99, 'Maria': 95, 'Claudia': 87}"
      ]
     },
     "execution_count": 30,
     "metadata": {},
     "output_type": "execute_result"
    }
   ],
   "source": [
    "try:\n",
    "    del grades['Carlos']\n",
    "except KeyError:\n",
    "    print(\"No Carlos in grade\")\n",
    "grades"
   ]
  },
  {
   "cell_type": "markdown",
   "metadata": {},
   "source": [
    "Para eliminar todo el diccionario se utiliza __clear()__"
   ]
  },
  {
   "cell_type": "code",
   "execution_count": 31,
   "metadata": {},
   "outputs": [],
   "source": [
    "grades.clear()"
   ]
  },
  {
   "cell_type": "markdown",
   "metadata": {},
   "source": [
    "<a id='sets'></a>\n",
    "# Sets\n",
    "\n",
    "_Set_ es una colección ordenada no indexada y no permite elementos duplciados.\n",
    "\n",
    "Los sets se crean a partir de una enumeración de elementos separados por comas, dicha enumeración va entre brackets {}\n",
    "\n",
    "También se pueden crear mediante set()"
   ]
  },
  {
   "cell_type": "code",
   "execution_count": 32,
   "metadata": {},
   "outputs": [],
   "source": [
    "thisset = {\"apple\", \"banana\", \"cherry\"}\n",
    "thisset\n",
    "\n",
    "thatset = set()"
   ]
  },
  {
   "cell_type": "markdown",
   "metadata": {},
   "source": [
    "El operador __in__ también funciona en los sets para verificar si un elemento está presente en el set."
   ]
  },
  {
   "cell_type": "code",
   "execution_count": 33,
   "metadata": {},
   "outputs": [
    {
     "name": "stdout",
     "output_type": "stream",
     "text": [
      "True\n",
      "False\n"
     ]
    }
   ],
   "source": [
    "print(\"banana\" in thisset)\n",
    "print(\"pizza\" in thisset)"
   ]
  },
  {
   "cell_type": "code",
   "execution_count": 34,
   "metadata": {},
   "outputs": [
    {
     "name": "stdout",
     "output_type": "stream",
     "text": [
      "{1, 2}\n"
     ]
    }
   ],
   "source": [
    "thatset.add(1)\n",
    "thatset.add(2)\n",
    "thatset.add(2)\n",
    "print(thatset)"
   ]
  },
  {
   "cell_type": "markdown",
   "metadata": {},
   "source": [
    "<a id='functions'></a>\n",
    "# Funciones"
   ]
  },
  {
   "cell_type": "raw",
   "metadata": {},
   "source": [
    "La syntaxis para las funciones en Python es:\n",
    "\n",
    "def function_name(parameters):\n",
    "    \"\"\"docstring\"\"\"\n",
    "    statement(s)"
   ]
  },
  {
   "cell_type": "markdown",
   "metadata": {},
   "source": [
    "La palabra reservada __def__ marca el inicio del encabezado de la funcion. \n",
    "\n",
    "A las funciones se les pueden pasar parámetros, los cuales son enlistados entre los paréntesis. \n",
    "\n",
    "Los dos puntos marcan el fin del encabezado de la función.\n",
    "\n",
    "Opcionalmente se puede inculir un docstring como descripción de la función.\n",
    "\n",
    "Los *statements* que conforman el cuerpo de la función deben estar indentados.\n",
    "\n",
    "Opcionalmente la función puede regresar un valor a través de un __return__ *statement*"
   ]
  },
  {
   "cell_type": "code",
   "execution_count": 35,
   "metadata": {},
   "outputs": [],
   "source": [
    "def to_celsius(Fahrenheit):\n",
    "    '''Converts from Fahrenheits to Celsius'''\n",
    "    Celsius = (Fahrenheit - 32) * 5.0 / 9.0\n",
    "    return Celsius"
   ]
  },
  {
   "cell_type": "code",
   "execution_count": 36,
   "metadata": {},
   "outputs": [
    {
     "data": {
      "text/plain": [
       "4.444444444444445"
      ]
     },
     "execution_count": 36,
     "metadata": {},
     "output_type": "execute_result"
    }
   ],
   "source": [
    "to_celsius(40)"
   ]
  },
  {
   "cell_type": "markdown",
   "metadata": {},
   "source": [
    "<a id='modules'></a>\n",
    "# Módulos\n",
    "\n",
    "Ciertas funcionalidades no están incluidas de forma default en Python, estas requieren ser importadas. Para tener acceso a dichas funcionalidades, se puede importar directamente el módulo como:"
   ]
  },
  {
   "cell_type": "code",
   "execution_count": 37,
   "metadata": {},
   "outputs": [],
   "source": [
    "import re\n",
    "\n",
    "num_regex = re.compile(\"[0-9]+\", re.I)"
   ]
  },
  {
   "cell_type": "markdown",
   "metadata": {},
   "source": [
    "En este ejemplo el módulo __re__ contiene las funciones y constantes para utilizar expresiones regulares en Python. Para accesar a las funciones se utiliza el prefijo __re.__ seguido del nombre de la función o constante.\n",
    "\n",
    "Otra forma de importar funcionalidades adicionales es mediante el uso de un alias, por ejemplo:"
   ]
  },
  {
   "cell_type": "code",
   "execution_count": 38,
   "metadata": {},
   "outputs": [
    {
     "data": {
      "text/plain": [
       "3.141592653589793"
      ]
     },
     "execution_count": 38,
     "metadata": {},
     "output_type": "execute_result"
    }
   ],
   "source": [
    "import math as m\n",
    "\n",
    "m.pi"
   ]
  },
  {
   "cell_type": "markdown",
   "metadata": {},
   "source": [
    "En este caso el contenido del módulo de math es accesado utilizando el prefijo __m.__ seguido de la función o constante. "
   ]
  },
  {
   "cell_type": "markdown",
   "metadata": {},
   "source": [
    "Cuando se requiere sólo unas cuantas funcionalidades del módulo se pueden importar explícitamente y utilizar sin algún prefijo, por ejemplo:"
   ]
  },
  {
   "cell_type": "code",
   "execution_count": 39,
   "metadata": {},
   "outputs": [],
   "source": [
    "from collections import defaultdict\n",
    "lookup = defaultdict(int)"
   ]
  },
  {
   "cell_type": "markdown",
   "metadata": {},
   "source": [
    "<a id='numPy'></a>\n",
    "# NumPy\n",
    "\n",
    "Paquete para realizar cálculo __num__érico en __py__thon.\n",
    "\n",
    "Los objetos en NumPy son arreglos multidimensionales llamados ndarray. "
   ]
  },
  {
   "cell_type": "code",
   "execution_count": 40,
   "metadata": {},
   "outputs": [
    {
     "name": "stdout",
     "output_type": "stream",
     "text": [
      "<class 'numpy.ndarray'>\n",
      "1\n"
     ]
    }
   ],
   "source": [
    "import numpy as np\n",
    "\n",
    "# Un ndarray se puede generar a partir de una lista y sus elementos se pueden accesar con la notacición de brackets []\n",
    "a = np.array([1, 2, 3])\n",
    "print(type(a))\n",
    "print(a[0])"
   ]
  },
  {
   "cell_type": "code",
   "execution_count": 41,
   "metadata": {},
   "outputs": [
    {
     "name": "stdout",
     "output_type": "stream",
     "text": [
      "(2, 3)\n"
     ]
    }
   ],
   "source": [
    "# El rango de un ndarray indica la cantidad de dimensiones y el atributo shape regresa un tuple con el tamaño\n",
    "# del arreglo en cada dimensión\n",
    "\n",
    "b = np.array([[1,2,3],[4,5,6]])\n",
    "print(b.shape)"
   ]
  },
  {
   "cell_type": "code",
   "execution_count": 42,
   "metadata": {},
   "outputs": [
    {
     "name": "stdout",
     "output_type": "stream",
     "text": [
      "[[0. 0.]\n",
      " [0. 0.]]\n"
     ]
    }
   ],
   "source": [
    "# Formas adicionales de generar ndarrays\n",
    "\n",
    "# Crea un arreglo de 0s\n",
    "a = np.zeros((2,2))\n",
    "print(a)"
   ]
  },
  {
   "cell_type": "code",
   "execution_count": 43,
   "metadata": {},
   "outputs": [
    {
     "name": "stdout",
     "output_type": "stream",
     "text": [
      "[[1. 1.]]\n"
     ]
    }
   ],
   "source": [
    "# Crea un arreglo de unos\n",
    "b = np.ones((1,2))\n",
    "print(b)"
   ]
  },
  {
   "cell_type": "code",
   "execution_count": 44,
   "metadata": {},
   "outputs": [
    {
     "data": {
      "text/plain": [
       "array([[4, 4, 4],\n",
       "       [4, 4, 4],\n",
       "       [4, 4, 4]])"
      ]
     },
     "execution_count": 44,
     "metadata": {},
     "output_type": "execute_result"
    }
   ],
   "source": [
    "# Crea un arreglo de una constante\n",
    "c = np.full((3,3),4)\n",
    "c"
   ]
  },
  {
   "cell_type": "code",
   "execution_count": 45,
   "metadata": {},
   "outputs": [
    {
     "data": {
      "text/plain": [
       "array([[0.71668274, 0.14649812, 0.94526065, 0.68955514],\n",
       "       [0.0975748 , 0.70983866, 0.45924757, 0.25461039],\n",
       "       [0.50203422, 0.503797  , 0.61374795, 0.75293021],\n",
       "       [0.61738558, 0.56750149, 0.82173727, 0.9848689 ]])"
      ]
     },
     "execution_count": 45,
     "metadata": {},
     "output_type": "execute_result"
    }
   ],
   "source": [
    "# Crea un arreglo de valores aleatorios\n",
    "\n",
    "e = np.random.random((4,4))\n",
    "e"
   ]
  },
  {
   "cell_type": "markdown",
   "metadata": {},
   "source": [
    "Las técnicas de slicing también aplican para los ndarray."
   ]
  },
  {
   "cell_type": "code",
   "execution_count": 46,
   "metadata": {},
   "outputs": [
    {
     "data": {
      "text/plain": [
       "array([[2, 3, 4],\n",
       "       [6, 7, 8]])"
      ]
     },
     "execution_count": 46,
     "metadata": {},
     "output_type": "execute_result"
    }
   ],
   "source": [
    "a = np.array([[1,2,3,4], [5,6,7,8], [9,10,11,12]])\n",
    "a[:2,1:]"
   ]
  },
  {
   "cell_type": "markdown",
   "metadata": {},
   "source": [
    "Numpy cuenta con las operaciones básicas de matemáticas para sus objetos"
   ]
  },
  {
   "cell_type": "code",
   "execution_count": 47,
   "metadata": {},
   "outputs": [
    {
     "name": "stdout",
     "output_type": "stream",
     "text": [
      "Elementwise sum \n",
      " [[ 6.  8.]\n",
      " [10. 12.]]\n",
      "Elementwise difference \n",
      " [[-4. -4.]\n",
      " [-4. -4.]]\n",
      "Elementwise product \n",
      " [[ 5. 12.]\n",
      " [21. 32.]]\n",
      "Elementwise division \n",
      " [[0.2        0.33333333]\n",
      " [0.42857143 0.5       ]]\n",
      "Elementwise square root \n",
      " [[1.         1.41421356]\n",
      " [1.73205081 2.        ]]\n",
      "Matrix product \n",
      " [[19. 22.]\n",
      " [43. 50.]]\n"
     ]
    }
   ],
   "source": [
    "x = np.array([[1,2],[3,4]], dtype=np.float64)\n",
    "y = np.array([[5,6],[7,8]], dtype=np.float64)\n",
    "\n",
    "print('Elementwise sum \\n', x + y)\n",
    "print('Elementwise difference \\n', x - y)\n",
    "print('Elementwise product \\n', x * y)\n",
    "print('Elementwise division \\n', x / y)\n",
    "print('Elementwise square root \\n', np.sqrt(x))\n",
    "print('Matrix product \\n', np.dot(x,y))"
   ]
  },
  {
   "cell_type": "markdown",
   "metadata": {},
   "source": [
    "NumPy es utilizado en las ciencias de datos debido a su velocidad para realizar operaciones matemáticas"
   ]
  },
  {
   "cell_type": "code",
   "execution_count": 4,
   "metadata": {},
   "outputs": [
    {
     "name": "stdout",
     "output_type": "stream",
     "text": [
      "python list took:  196.81668281555176\n",
      "numpy took:  16.983747482299805\n"
     ]
    }
   ],
   "source": [
    "import time\n",
    "import sys\n",
    "\n",
    "SIZE = 1000000\n",
    "l1 = range(SIZE)\n",
    "l2 = range(SIZE)\n",
    "a1=np.arange(SIZE)\n",
    "a2=np.arange(SIZE)\n",
    "\n",
    "start = time.time()\n",
    "result = [(x+y) for x,y in zip(l1,l2)]\n",
    "print(\"python list took: \",(time.time()-start)*1000)\n",
    "\n",
    "start= time.time()\n",
    "result = a1 + a2\n",
    "print(\"numpy took: \", (time.time()-start)*1000)"
   ]
  },
  {
   "cell_type": "code",
   "execution_count": 7,
   "metadata": {},
   "outputs": [
    {
     "name": "stdout",
     "output_type": "stream",
     "text": [
      "[0 2 4]\n"
     ]
    }
   ],
   "source": [
    "print(result[:3])"
   ]
  },
  {
   "cell_type": "code",
   "execution_count": 8,
   "metadata": {},
   "outputs": [
    {
     "data": {
      "text/plain": [
       "array([0, 2, 4])"
      ]
     },
     "execution_count": 8,
     "metadata": {},
     "output_type": "execute_result"
    }
   ],
   "source": [
    "result[:3]"
   ]
  },
  {
   "cell_type": "code",
   "execution_count": null,
   "metadata": {},
   "outputs": [],
   "source": []
  }
 ],
 "metadata": {
  "kernelspec": {
   "display_name": "Python 3",
   "language": "python",
   "name": "python3"
  },
  "language_info": {
   "codemirror_mode": {
    "name": "ipython",
    "version": 3
   },
   "file_extension": ".py",
   "mimetype": "text/x-python",
   "name": "python",
   "nbconvert_exporter": "python",
   "pygments_lexer": "ipython3",
   "version": "3.8.5"
  }
 },
 "nbformat": 4,
 "nbformat_minor": 2
}
