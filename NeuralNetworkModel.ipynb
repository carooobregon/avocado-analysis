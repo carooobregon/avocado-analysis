{
 "cells": [
  {
   "cell_type": "code",
   "execution_count": 221,
   "id": "4c24fe68-84ea-4893-9479-969816468116",
   "metadata": {},
   "outputs": [],
   "source": [
    "import pandas as pd\n",
    "from sklearn import preprocessing\n",
    "import numpy as np\n",
    "from sklearn.model_selection import train_test_split\n",
    "import sklearn\n",
    "from keras.models import Sequential\n",
    "from keras.layers import Dense\n",
    "import matplotlib.pyplot as plt"
   ]
  },
  {
   "cell_type": "code",
   "execution_count": 222,
   "id": "7fbf2573-4cd4-498f-8f23-febe9efafc92",
   "metadata": {},
   "outputs": [
    {
     "data": {
      "text/html": [
       "<div>\n",
       "<style scoped>\n",
       "    .dataframe tbody tr th:only-of-type {\n",
       "        vertical-align: middle;\n",
       "    }\n",
       "\n",
       "    .dataframe tbody tr th {\n",
       "        vertical-align: top;\n",
       "    }\n",
       "\n",
       "    .dataframe thead th {\n",
       "        text-align: right;\n",
       "    }\n",
       "</style>\n",
       "<table border=\"1\" class=\"dataframe\">\n",
       "  <thead>\n",
       "    <tr style=\"text-align: right;\">\n",
       "      <th></th>\n",
       "      <th>AveragePrice</th>\n",
       "      <th>Total Volume</th>\n",
       "      <th>region</th>\n",
       "    </tr>\n",
       "  </thead>\n",
       "  <tbody>\n",
       "    <tr>\n",
       "      <th>0</th>\n",
       "      <td>1.33</td>\n",
       "      <td>64236.62</td>\n",
       "      <td>Albany</td>\n",
       "    </tr>\n",
       "    <tr>\n",
       "      <th>1</th>\n",
       "      <td>1.35</td>\n",
       "      <td>54876.98</td>\n",
       "      <td>Albany</td>\n",
       "    </tr>\n",
       "    <tr>\n",
       "      <th>2</th>\n",
       "      <td>0.93</td>\n",
       "      <td>118220.22</td>\n",
       "      <td>Albany</td>\n",
       "    </tr>\n",
       "    <tr>\n",
       "      <th>3</th>\n",
       "      <td>1.08</td>\n",
       "      <td>78992.15</td>\n",
       "      <td>Albany</td>\n",
       "    </tr>\n",
       "    <tr>\n",
       "      <th>4</th>\n",
       "      <td>1.28</td>\n",
       "      <td>51039.60</td>\n",
       "      <td>Albany</td>\n",
       "    </tr>\n",
       "  </tbody>\n",
       "</table>\n",
       "</div>"
      ],
      "text/plain": [
       "   AveragePrice  Total Volume  region\n",
       "0          1.33      64236.62  Albany\n",
       "1          1.35      54876.98  Albany\n",
       "2          0.93     118220.22  Albany\n",
       "3          1.08      78992.15  Albany\n",
       "4          1.28      51039.60  Albany"
      ]
     },
     "execution_count": 222,
     "metadata": {},
     "output_type": "execute_result"
    }
   ],
   "source": [
    "df = pd.read_csv('data/avocado.csv')\n",
    "df = df[[\"AveragePrice\", \"Total Volume\", \"region\"]]\n",
    "df.head()"
   ]
  },
  {
   "cell_type": "code",
   "execution_count": 223,
   "id": "1828404d-76fd-4698-ac86-b7850e15f472",
   "metadata": {},
   "outputs": [
    {
     "data": {
      "text/html": [
       "<div>\n",
       "<style scoped>\n",
       "    .dataframe tbody tr th:only-of-type {\n",
       "        vertical-align: middle;\n",
       "    }\n",
       "\n",
       "    .dataframe tbody tr th {\n",
       "        vertical-align: top;\n",
       "    }\n",
       "\n",
       "    .dataframe thead th {\n",
       "        text-align: right;\n",
       "    }\n",
       "</style>\n",
       "<table border=\"1\" class=\"dataframe\">\n",
       "  <thead>\n",
       "    <tr style=\"text-align: right;\">\n",
       "      <th></th>\n",
       "      <th>AveragePrice</th>\n",
       "      <th>Total Volume</th>\n",
       "    </tr>\n",
       "    <tr>\n",
       "      <th>region</th>\n",
       "      <th></th>\n",
       "      <th></th>\n",
       "    </tr>\n",
       "  </thead>\n",
       "  <tbody>\n",
       "    <tr>\n",
       "      <th>Albany</th>\n",
       "      <td>1.33</td>\n",
       "      <td>64236.62</td>\n",
       "    </tr>\n",
       "    <tr>\n",
       "      <th>Albany</th>\n",
       "      <td>1.35</td>\n",
       "      <td>54876.98</td>\n",
       "    </tr>\n",
       "    <tr>\n",
       "      <th>Albany</th>\n",
       "      <td>0.93</td>\n",
       "      <td>118220.22</td>\n",
       "    </tr>\n",
       "    <tr>\n",
       "      <th>Albany</th>\n",
       "      <td>1.08</td>\n",
       "      <td>78992.15</td>\n",
       "    </tr>\n",
       "    <tr>\n",
       "      <th>Albany</th>\n",
       "      <td>1.28</td>\n",
       "      <td>51039.60</td>\n",
       "    </tr>\n",
       "  </tbody>\n",
       "</table>\n",
       "</div>"
      ],
      "text/plain": [
       "        AveragePrice  Total Volume\n",
       "region                            \n",
       "Albany          1.33      64236.62\n",
       "Albany          1.35      54876.98\n",
       "Albany          0.93     118220.22\n",
       "Albany          1.08      78992.15\n",
       "Albany          1.28      51039.60"
      ]
     },
     "execution_count": 223,
     "metadata": {},
     "output_type": "execute_result"
    }
   ],
   "source": [
    "df = df.set_index(\"region\")\n",
    "df.head()"
   ]
  },
  {
   "cell_type": "code",
   "execution_count": 224,
   "id": "fcc41dac-fcf9-493f-b21d-b85641892242",
   "metadata": {},
   "outputs": [
    {
     "data": {
      "text/html": [
       "<div>\n",
       "<style scoped>\n",
       "    .dataframe tbody tr th:only-of-type {\n",
       "        vertical-align: middle;\n",
       "    }\n",
       "\n",
       "    .dataframe tbody tr th {\n",
       "        vertical-align: top;\n",
       "    }\n",
       "\n",
       "    .dataframe thead th {\n",
       "        text-align: right;\n",
       "    }\n",
       "</style>\n",
       "<table border=\"1\" class=\"dataframe\">\n",
       "  <thead>\n",
       "    <tr style=\"text-align: right;\">\n",
       "      <th></th>\n",
       "      <th>region</th>\n",
       "      <th>AveragePrice</th>\n",
       "      <th>Total Volume</th>\n",
       "    </tr>\n",
       "  </thead>\n",
       "  <tbody>\n",
       "    <tr>\n",
       "      <th>0</th>\n",
       "      <td>NewYork</td>\n",
       "      <td>1.17</td>\n",
       "      <td>1129876.05</td>\n",
       "    </tr>\n",
       "    <tr>\n",
       "      <th>1</th>\n",
       "      <td>NewYork</td>\n",
       "      <td>1.23</td>\n",
       "      <td>1139347.98</td>\n",
       "    </tr>\n",
       "    <tr>\n",
       "      <th>2</th>\n",
       "      <td>NewYork</td>\n",
       "      <td>1.12</td>\n",
       "      <td>1254805.29</td>\n",
       "    </tr>\n",
       "    <tr>\n",
       "      <th>3</th>\n",
       "      <td>NewYork</td>\n",
       "      <td>1.20</td>\n",
       "      <td>1068971.54</td>\n",
       "    </tr>\n",
       "    <tr>\n",
       "      <th>4</th>\n",
       "      <td>NewYork</td>\n",
       "      <td>1.16</td>\n",
       "      <td>999169.64</td>\n",
       "    </tr>\n",
       "    <tr>\n",
       "      <th>...</th>\n",
       "      <td>...</td>\n",
       "      <td>...</td>\n",
       "      <td>...</td>\n",
       "    </tr>\n",
       "    <tr>\n",
       "      <th>1685</th>\n",
       "      <td>LosAngeles</td>\n",
       "      <td>1.60</td>\n",
       "      <td>100274.88</td>\n",
       "    </tr>\n",
       "    <tr>\n",
       "      <th>1686</th>\n",
       "      <td>LosAngeles</td>\n",
       "      <td>1.73</td>\n",
       "      <td>97026.15</td>\n",
       "    </tr>\n",
       "    <tr>\n",
       "      <th>1687</th>\n",
       "      <td>LosAngeles</td>\n",
       "      <td>1.75</td>\n",
       "      <td>94441.50</td>\n",
       "    </tr>\n",
       "    <tr>\n",
       "      <th>1688</th>\n",
       "      <td>LosAngeles</td>\n",
       "      <td>1.68</td>\n",
       "      <td>106624.63</td>\n",
       "    </tr>\n",
       "    <tr>\n",
       "      <th>1689</th>\n",
       "      <td>LosAngeles</td>\n",
       "      <td>1.80</td>\n",
       "      <td>87517.23</td>\n",
       "    </tr>\n",
       "  </tbody>\n",
       "</table>\n",
       "<p>1690 rows × 3 columns</p>\n",
       "</div>"
      ],
      "text/plain": [
       "          region  AveragePrice  Total Volume\n",
       "0        NewYork          1.17    1129876.05\n",
       "1        NewYork          1.23    1139347.98\n",
       "2        NewYork          1.12    1254805.29\n",
       "3        NewYork          1.20    1068971.54\n",
       "4        NewYork          1.16     999169.64\n",
       "...          ...           ...           ...\n",
       "1685  LosAngeles          1.60     100274.88\n",
       "1686  LosAngeles          1.73      97026.15\n",
       "1687  LosAngeles          1.75      94441.50\n",
       "1688  LosAngeles          1.68     106624.63\n",
       "1689  LosAngeles          1.80      87517.23\n",
       "\n",
       "[1690 rows x 3 columns]"
      ]
     },
     "execution_count": 224,
     "metadata": {},
     "output_type": "execute_result"
    }
   ],
   "source": [
    "cities = df.loc[[\"NewYork\", \"PhoenixTucson\",\"SanFrancisco\", \"Houston\",\"LosAngeles\"]]\n",
    "cities = cities.reset_index()\n",
    "#print(cities.groupby('region').size())\n",
    "cities.head()\n",
    "cities "
   ]
  },
  {
   "cell_type": "code",
   "execution_count": 225,
   "id": "103d6de8-ef11-4a35-bfc3-12f159f9bdb9",
   "metadata": {},
   "outputs": [
    {
     "name": "stdout",
     "output_type": "stream",
     "text": [
      "            region  AveragePrice  Total Volume\n",
      "8          NewYork          1.06    2180520.22\n",
      "950   SanFrancisco          2.01      18541.03\n",
      "1116       Houston          0.84    1095287.56\n",
      "1456    LosAngeles          0.88    3212261.75\n",
      "942   SanFrancisco          2.37      21276.09\n",
      "...            ...           ...           ...\n",
      "917   SanFrancisco          2.33      24605.38\n",
      "1273       Houston          1.18      12965.74\n",
      "1632    LosAngeles          1.98      62337.67\n",
      "1261       Houston          1.32      14968.56\n",
      "713   SanFrancisco          1.33     729890.28\n",
      "\n",
      "[1690 rows x 3 columns]\n"
     ]
    }
   ],
   "source": [
    "df_shuffled=sklearn.utils.shuffle(cities)\n",
    "print(df_shuffled)"
   ]
  },
  {
   "cell_type": "code",
   "execution_count": 226,
   "id": "d684667c-bdde-4a68-8e10-62733eb73892",
   "metadata": {},
   "outputs": [],
   "source": [
    "cities['region'] = cities['region'].replace(['Houston'],1)\n",
    "cities['region'] = cities['region'].replace(['LosAngeles'],2)\n",
    "cities['region'] = cities['region'].replace(['NewYork'],3)\n",
    "cities['region'] = cities['region'].replace(['PhoenixTucson'],4)\n",
    "cities['region'] = cities['region'].replace(['SanFrancisco'],5)"
   ]
  },
  {
   "cell_type": "code",
   "execution_count": 227,
   "id": "553de403-53e6-4e2e-9946-8457e85363eb",
   "metadata": {},
   "outputs": [
    {
     "name": "stdout",
     "output_type": "stream",
     "text": [
      "region\n",
      "1    338\n",
      "2    338\n",
      "3    338\n",
      "4    338\n",
      "5    338\n",
      "dtype: int64\n"
     ]
    }
   ],
   "source": [
    "cities[\"region\"] = pd.to_numeric(cities[\"region\"])\n",
    "print(cities.groupby('region').size())"
   ]
  },
  {
   "cell_type": "code",
   "execution_count": 228,
   "id": "8c0894c0-57a3-476b-8a37-c28e663b70da",
   "metadata": {},
   "outputs": [
    {
     "data": {
      "text/html": [
       "<div>\n",
       "<style scoped>\n",
       "    .dataframe tbody tr th:only-of-type {\n",
       "        vertical-align: middle;\n",
       "    }\n",
       "\n",
       "    .dataframe tbody tr th {\n",
       "        vertical-align: top;\n",
       "    }\n",
       "\n",
       "    .dataframe thead th {\n",
       "        text-align: right;\n",
       "    }\n",
       "</style>\n",
       "<table border=\"1\" class=\"dataframe\">\n",
       "  <thead>\n",
       "    <tr style=\"text-align: right;\">\n",
       "      <th></th>\n",
       "      <th>AveragePrice</th>\n",
       "      <th>Total Volume</th>\n",
       "    </tr>\n",
       "    <tr>\n",
       "      <th>region</th>\n",
       "      <th></th>\n",
       "      <th></th>\n",
       "    </tr>\n",
       "  </thead>\n",
       "  <tbody>\n",
       "    <tr>\n",
       "      <th>Albany</th>\n",
       "      <td>1.33</td>\n",
       "      <td>64236.62</td>\n",
       "    </tr>\n",
       "    <tr>\n",
       "      <th>Albany</th>\n",
       "      <td>1.35</td>\n",
       "      <td>54876.98</td>\n",
       "    </tr>\n",
       "    <tr>\n",
       "      <th>Albany</th>\n",
       "      <td>0.93</td>\n",
       "      <td>118220.22</td>\n",
       "    </tr>\n",
       "    <tr>\n",
       "      <th>Albany</th>\n",
       "      <td>1.08</td>\n",
       "      <td>78992.15</td>\n",
       "    </tr>\n",
       "    <tr>\n",
       "      <th>Albany</th>\n",
       "      <td>1.28</td>\n",
       "      <td>51039.60</td>\n",
       "    </tr>\n",
       "    <tr>\n",
       "      <th>...</th>\n",
       "      <td>...</td>\n",
       "      <td>...</td>\n",
       "    </tr>\n",
       "    <tr>\n",
       "      <th>WestTexNewMexico</th>\n",
       "      <td>1.63</td>\n",
       "      <td>17074.83</td>\n",
       "    </tr>\n",
       "    <tr>\n",
       "      <th>WestTexNewMexico</th>\n",
       "      <td>1.71</td>\n",
       "      <td>13888.04</td>\n",
       "    </tr>\n",
       "    <tr>\n",
       "      <th>WestTexNewMexico</th>\n",
       "      <td>1.87</td>\n",
       "      <td>13766.76</td>\n",
       "    </tr>\n",
       "    <tr>\n",
       "      <th>WestTexNewMexico</th>\n",
       "      <td>1.93</td>\n",
       "      <td>16205.22</td>\n",
       "    </tr>\n",
       "    <tr>\n",
       "      <th>WestTexNewMexico</th>\n",
       "      <td>1.62</td>\n",
       "      <td>17489.58</td>\n",
       "    </tr>\n",
       "  </tbody>\n",
       "</table>\n",
       "<p>18249 rows × 2 columns</p>\n",
       "</div>"
      ],
      "text/plain": [
       "                  AveragePrice  Total Volume\n",
       "region                                      \n",
       "Albany                    1.33      64236.62\n",
       "Albany                    1.35      54876.98\n",
       "Albany                    0.93     118220.22\n",
       "Albany                    1.08      78992.15\n",
       "Albany                    1.28      51039.60\n",
       "...                        ...           ...\n",
       "WestTexNewMexico          1.63      17074.83\n",
       "WestTexNewMexico          1.71      13888.04\n",
       "WestTexNewMexico          1.87      13766.76\n",
       "WestTexNewMexico          1.93      16205.22\n",
       "WestTexNewMexico          1.62      17489.58\n",
       "\n",
       "[18249 rows x 2 columns]"
      ]
     },
     "execution_count": 228,
     "metadata": {},
     "output_type": "execute_result"
    }
   ],
   "source": [
    "cities\n",
    "df"
   ]
  },
  {
   "cell_type": "code",
   "execution_count": 229,
   "id": "9531625d-4abb-4009-8ac0-95492db05ba8",
   "metadata": {},
   "outputs": [],
   "source": [
    "cities.head()\n",
    "cities = cities[[\"AveragePrice\", \"Total Volume\", \"region\"]]"
   ]
  },
  {
   "cell_type": "code",
   "execution_count": 230,
   "id": "bbe347f3-a082-465d-ae18-fc8ea721b79b",
   "metadata": {},
   "outputs": [
    {
     "data": {
      "text/plain": [
       "array([[1.17000000e+00, 1.12987605e+06, 3.00000000e+00],\n",
       "       [1.23000000e+00, 1.13934798e+06, 3.00000000e+00],\n",
       "       [1.12000000e+00, 1.25480529e+06, 3.00000000e+00],\n",
       "       ...,\n",
       "       [1.75000000e+00, 9.44415000e+04, 2.00000000e+00],\n",
       "       [1.68000000e+00, 1.06624630e+05, 2.00000000e+00],\n",
       "       [1.80000000e+00, 8.75172300e+04, 2.00000000e+00]])"
      ]
     },
     "execution_count": 230,
     "metadata": {},
     "output_type": "execute_result"
    }
   ],
   "source": [
    "dataset = cities.values\n",
    "dataset"
   ]
  },
  {
   "cell_type": "code",
   "execution_count": 231,
   "id": "8543433f-5c1f-47bf-92e1-64c5e263cc8f",
   "metadata": {},
   "outputs": [
    {
     "name": "stdout",
     "output_type": "stream",
     "text": [
      "[[1.17000000e+00 1.12987605e+06]\n",
      " [1.23000000e+00 1.13934798e+06]\n",
      " [1.12000000e+00 1.25480529e+06]\n",
      " ...\n",
      " [1.75000000e+00 9.44415000e+04]\n",
      " [1.68000000e+00 1.06624630e+05]\n",
      " [1.80000000e+00 8.75172300e+04]]\n",
      "[3. 3. 3. ... 2. 2. 2.]\n"
     ]
    }
   ],
   "source": [
    "X = dataset[:,0:2]\n",
    "print(X)\n",
    "Y = dataset[:,2]\n",
    "print(Y)"
   ]
  },
  {
   "cell_type": "code",
   "execution_count": 242,
   "id": "546d9cb3-c55c-405e-9123-a4fd2515e2a4",
   "metadata": {},
   "outputs": [],
   "source": [
    "min_max_scaler = preprocessing.MinMaxScaler()\n",
    "X_scale = min_max_scaler.fit_transform(X)"
   ]
  },
  {
   "cell_type": "code",
   "execution_count": 243,
   "id": "7c7f7090-32f4-4b07-92be-b8b07d352ea8",
   "metadata": {},
   "outputs": [
    {
     "data": {
      "text/plain": [
       "array([[0.25448029, 0.20584139],\n",
       "       [0.27598566, 0.20757448],\n",
       "       [0.23655914, 0.22869982],\n",
       "       ...,\n",
       "       [0.46236559, 0.01638683],\n",
       "       [0.43727599, 0.01861599],\n",
       "       [0.48028674, 0.01511989]])"
      ]
     },
     "execution_count": 243,
     "metadata": {},
     "output_type": "execute_result"
    }
   ],
   "source": [
    "X_scale"
   ]
  },
  {
   "cell_type": "code",
   "execution_count": 244,
   "id": "b8586c15-b345-440a-b534-902d07f4ca29",
   "metadata": {},
   "outputs": [],
   "source": [
    "X_train, X_val_and_test, Y_train, Y_val_and_test = train_test_split(X_scale, Y, test_size=0.3)"
   ]
  },
  {
   "cell_type": "code",
   "execution_count": 245,
   "id": "e85df3cf-f048-403c-bae2-625403e61a68",
   "metadata": {},
   "outputs": [],
   "source": [
    "X_val, X_test, Y_val, Y_test = train_test_split(X_val_and_test, Y_val_and_test, test_size=0.5)"
   ]
  },
  {
   "cell_type": "code",
   "execution_count": 264,
   "id": "c9f7287b-754f-4c9e-a7bf-35b5fe4f12a7",
   "metadata": {},
   "outputs": [
    {
     "name": "stdout",
     "output_type": "stream",
     "text": [
      "(1183, 2) (253, 2) (254, 2) (1183,) (253,) (254,)\n"
     ]
    }
   ],
   "source": [
    "print(X_train.shape, X_val.shape, X_test.shape, Y_train.shape, Y_val.shape, Y_test.shape)"
   ]
  },
  {
   "cell_type": "code",
   "execution_count": 250,
   "id": "d6fbbb4d-b8fb-474b-a8f3-bdf05a40a35f",
   "metadata": {},
   "outputs": [],
   "source": [
    "# building and training neural network\n",
    "\n",
    "# setting up the architecture\n",
    "model = Sequential([\n",
    "    Dense(32, activation='relu', input_shape=(2,)),\n",
    "    Dense(32, activation='softmax'), # neurons\n",
    "    Dense(32, activation='relu'), # neurons\n",
    "    Dense(32, activation='softmax'),\n",
    "    Dense(32, activation='relu'),\n",
    "    Dense(1, activation='softmax'),\n",
    "])"
   ]
  },
  {
   "cell_type": "code",
   "execution_count": 265,
   "id": "6b239a30-02fc-49b5-95b1-6125552c103d",
   "metadata": {},
   "outputs": [],
   "source": [
    "# building and training neural network\n",
    "model = Sequential([\n",
    "    Dense(32, activation='relu', input_shape=(2,)),\n",
    "    Dense(32, activation='relu'),\n",
    "    Dense(32, activation='relu'),\n",
    "    Dense(32, activation='relu'),\n",
    "    Dense(32, activation='relu'),\n",
    "    Dense(1, activation='softmax'),\n",
    "])"
   ]
  },
  {
   "cell_type": "code",
   "execution_count": 266,
   "id": "c9eea008-026c-4cb1-87a7-95b4fab00eb8",
   "metadata": {},
   "outputs": [],
   "source": [
    "# configuring it for compiling\n",
    "model.compile(optimizer='sgd',\n",
    "              loss='kullback_leibler_divergence',\n",
    "              metrics=['accuracy'])"
   ]
  },
  {
   "cell_type": "code",
   "execution_count": 267,
   "id": "0ea38b9d-a7c9-4d71-bb05-9be337568afd",
   "metadata": {},
   "outputs": [
    {
     "name": "stdout",
     "output_type": "stream",
     "text": [
      "Epoch 1/45\n",
      "37/37 [==============================] - 1s 17ms/step - loss: 0.0000e+00 - accuracy: 0.2159 - val_loss: 0.0000e+00 - val_accuracy: 0.1858\n",
      "Epoch 2/45\n",
      "37/37 [==============================] - 0s 2ms/step - loss: 0.0000e+00 - accuracy: 0.2078 - val_loss: 0.0000e+00 - val_accuracy: 0.1858\n",
      "Epoch 3/45\n",
      "37/37 [==============================] - 0s 3ms/step - loss: 0.0000e+00 - accuracy: 0.2009 - val_loss: 0.0000e+00 - val_accuracy: 0.1858\n",
      "Epoch 4/45\n",
      "37/37 [==============================] - 0s 3ms/step - loss: 0.0000e+00 - accuracy: 0.2081 - val_loss: 0.0000e+00 - val_accuracy: 0.1858\n",
      "Epoch 5/45\n",
      "37/37 [==============================] - 0s 4ms/step - loss: 0.0000e+00 - accuracy: 0.1866 - val_loss: 0.0000e+00 - val_accuracy: 0.1858\n",
      "Epoch 6/45\n",
      "37/37 [==============================] - 0s 2ms/step - loss: 0.0000e+00 - accuracy: 0.1918 - val_loss: 0.0000e+00 - val_accuracy: 0.1858\n",
      "Epoch 7/45\n",
      "37/37 [==============================] - 0s 2ms/step - loss: 0.0000e+00 - accuracy: 0.2171 - val_loss: 0.0000e+00 - val_accuracy: 0.1858\n",
      "Epoch 8/45\n",
      "37/37 [==============================] - 0s 3ms/step - loss: 0.0000e+00 - accuracy: 0.2078 - val_loss: 0.0000e+00 - val_accuracy: 0.1858\n",
      "Epoch 9/45\n",
      "37/37 [==============================] - 0s 3ms/step - loss: 0.0000e+00 - accuracy: 0.2061 - val_loss: 0.0000e+00 - val_accuracy: 0.1858\n",
      "Epoch 10/45\n",
      "37/37 [==============================] - 0s 7ms/step - loss: 0.0000e+00 - accuracy: 0.2016 - val_loss: 0.0000e+00 - val_accuracy: 0.1858\n",
      "Epoch 11/45\n",
      "37/37 [==============================] - 0s 3ms/step - loss: 0.0000e+00 - accuracy: 0.2059 - val_loss: 0.0000e+00 - val_accuracy: 0.1858\n",
      "Epoch 12/45\n",
      "37/37 [==============================] - 0s 2ms/step - loss: 0.0000e+00 - accuracy: 0.2088 - val_loss: 0.0000e+00 - val_accuracy: 0.1858\n",
      "Epoch 13/45\n",
      "37/37 [==============================] - 0s 5ms/step - loss: 0.0000e+00 - accuracy: 0.1990 - val_loss: 0.0000e+00 - val_accuracy: 0.1858\n",
      "Epoch 14/45\n",
      "37/37 [==============================] - 0s 7ms/step - loss: 0.0000e+00 - accuracy: 0.1877 - val_loss: 0.0000e+00 - val_accuracy: 0.1858\n",
      "Epoch 15/45\n",
      "37/37 [==============================] - 0s 6ms/step - loss: 0.0000e+00 - accuracy: 0.1925 - val_loss: 0.0000e+00 - val_accuracy: 0.1858\n",
      "Epoch 16/45\n",
      "37/37 [==============================] - 0s 5ms/step - loss: 0.0000e+00 - accuracy: 0.2121 - val_loss: 0.0000e+00 - val_accuracy: 0.1858\n",
      "Epoch 17/45\n",
      "37/37 [==============================] - 0s 7ms/step - loss: 0.0000e+00 - accuracy: 0.1820 - val_loss: 0.0000e+00 - val_accuracy: 0.1858\n",
      "Epoch 18/45\n",
      "37/37 [==============================] - 0s 6ms/step - loss: 0.0000e+00 - accuracy: 0.2017 - val_loss: 0.0000e+00 - val_accuracy: 0.1858\n",
      "Epoch 19/45\n",
      "37/37 [==============================] - 0s 5ms/step - loss: 0.0000e+00 - accuracy: 0.2017 - val_loss: 0.0000e+00 - val_accuracy: 0.1858\n",
      "Epoch 20/45\n",
      "37/37 [==============================] - 0s 3ms/step - loss: 0.0000e+00 - accuracy: 0.2095 - val_loss: 0.0000e+00 - val_accuracy: 0.1858\n",
      "Epoch 21/45\n",
      "37/37 [==============================] - 0s 5ms/step - loss: 0.0000e+00 - accuracy: 0.2033 - val_loss: 0.0000e+00 - val_accuracy: 0.1858\n",
      "Epoch 22/45\n",
      "37/37 [==============================] - 0s 7ms/step - loss: 0.0000e+00 - accuracy: 0.1894 - val_loss: 0.0000e+00 - val_accuracy: 0.1858\n",
      "Epoch 23/45\n",
      "37/37 [==============================] - 0s 4ms/step - loss: 0.0000e+00 - accuracy: 0.1995 - val_loss: 0.0000e+00 - val_accuracy: 0.1858\n",
      "Epoch 24/45\n",
      "37/37 [==============================] - 0s 3ms/step - loss: 0.0000e+00 - accuracy: 0.2102 - val_loss: 0.0000e+00 - val_accuracy: 0.1858\n",
      "Epoch 25/45\n",
      "37/37 [==============================] - 0s 5ms/step - loss: 0.0000e+00 - accuracy: 0.2073 - val_loss: 0.0000e+00 - val_accuracy: 0.1858\n",
      "Epoch 26/45\n",
      "37/37 [==============================] - 0s 11ms/step - loss: 0.0000e+00 - accuracy: 0.2169 - val_loss: 0.0000e+00 - val_accuracy: 0.1858\n",
      "Epoch 27/45\n",
      "37/37 [==============================] - 0s 4ms/step - loss: 0.0000e+00 - accuracy: 0.2098 - val_loss: 0.0000e+00 - val_accuracy: 0.1858\n",
      "Epoch 28/45\n",
      "37/37 [==============================] - 0s 8ms/step - loss: 0.0000e+00 - accuracy: 0.2018 - val_loss: 0.0000e+00 - val_accuracy: 0.1858\n",
      "Epoch 29/45\n",
      "37/37 [==============================] - 0s 4ms/step - loss: 0.0000e+00 - accuracy: 0.1974 - val_loss: 0.0000e+00 - val_accuracy: 0.1858\n",
      "Epoch 30/45\n",
      "37/37 [==============================] - 0s 10ms/step - loss: 0.0000e+00 - accuracy: 0.2015 - val_loss: 0.0000e+00 - val_accuracy: 0.1858\n",
      "Epoch 31/45\n",
      "37/37 [==============================] - 0s 7ms/step - loss: 0.0000e+00 - accuracy: 0.2218 - val_loss: 0.0000e+00 - val_accuracy: 0.1858\n",
      "Epoch 32/45\n",
      "37/37 [==============================] - 0s 12ms/step - loss: 0.0000e+00 - accuracy: 0.2087 - val_loss: 0.0000e+00 - val_accuracy: 0.1858\n",
      "Epoch 33/45\n",
      "37/37 [==============================] - 0s 4ms/step - loss: 0.0000e+00 - accuracy: 0.2011 - val_loss: 0.0000e+00 - val_accuracy: 0.1858\n",
      "Epoch 34/45\n",
      "37/37 [==============================] - 0s 8ms/step - loss: 0.0000e+00 - accuracy: 0.1999 - val_loss: 0.0000e+00 - val_accuracy: 0.1858\n",
      "Epoch 35/45\n",
      "37/37 [==============================] - 0s 9ms/step - loss: 0.0000e+00 - accuracy: 0.2118 - val_loss: 0.0000e+00 - val_accuracy: 0.1858\n",
      "Epoch 36/45\n",
      "37/37 [==============================] - 0s 7ms/step - loss: 0.0000e+00 - accuracy: 0.1934 - val_loss: 0.0000e+00 - val_accuracy: 0.1858\n",
      "Epoch 37/45\n",
      "37/37 [==============================] - 0s 4ms/step - loss: 0.0000e+00 - accuracy: 0.2059 - val_loss: 0.0000e+00 - val_accuracy: 0.1858\n",
      "Epoch 38/45\n",
      "37/37 [==============================] - 0s 9ms/step - loss: 0.0000e+00 - accuracy: 0.1914 - val_loss: 0.0000e+00 - val_accuracy: 0.1858\n",
      "Epoch 39/45\n",
      "37/37 [==============================] - 0s 4ms/step - loss: 0.0000e+00 - accuracy: 0.1964 - val_loss: 0.0000e+00 - val_accuracy: 0.1858\n",
      "Epoch 40/45\n",
      "37/37 [==============================] - 0s 10ms/step - loss: 0.0000e+00 - accuracy: 0.2053 - val_loss: 0.0000e+00 - val_accuracy: 0.1858\n",
      "Epoch 41/45\n",
      "37/37 [==============================] - 0s 4ms/step - loss: 0.0000e+00 - accuracy: 0.2322 - val_loss: 0.0000e+00 - val_accuracy: 0.1858\n",
      "Epoch 42/45\n",
      "37/37 [==============================] - 0s 4ms/step - loss: 0.0000e+00 - accuracy: 0.2065 - val_loss: 0.0000e+00 - val_accuracy: 0.1858\n",
      "Epoch 43/45\n",
      "37/37 [==============================] - 0s 4ms/step - loss: 0.0000e+00 - accuracy: 0.1872 - val_loss: 0.0000e+00 - val_accuracy: 0.1858\n",
      "Epoch 44/45\n",
      "37/37 [==============================] - 0s 4ms/step - loss: 0.0000e+00 - accuracy: 0.2011 - val_loss: 0.0000e+00 - val_accuracy: 0.1858\n",
      "Epoch 45/45\n",
      "37/37 [==============================] - 0s 7ms/step - loss: 0.0000e+00 - accuracy: 0.2224 - val_loss: 0.0000e+00 - val_accuracy: 0.1858\n"
     ]
    }
   ],
   "source": [
    "# training our model\n",
    "hist = model.fit(X_train, Y_train,\n",
    "          batch_size=32, epochs=45,\n",
    "          validation_data=(X_val, Y_val))"
   ]
  },
  {
   "cell_type": "code",
   "execution_count": 268,
   "id": "54413ae4-1950-422d-878e-de0a063a38d2",
   "metadata": {},
   "outputs": [
    {
     "name": "stdout",
     "output_type": "stream",
     "text": [
      "8/8 [==============================] - 0s 6ms/step - loss: 0.0000e+00 - accuracy: 0.1929\n"
     ]
    },
    {
     "data": {
      "text/plain": [
       "0.19291338324546814"
      ]
     },
     "execution_count": 268,
     "metadata": {},
     "output_type": "execute_result"
    }
   ],
   "source": [
    "model.evaluate(X_test, Y_test)[1] # viewing results"
   ]
  },
  {
   "cell_type": "code",
   "execution_count": 269,
   "id": "d6f17e4f-918e-46d2-8339-918ecc4f06b0",
   "metadata": {},
   "outputs": [
    {
     "name": "stdout",
     "output_type": "stream",
     "text": [
      "{'loss': [0.0, 0.0, 0.0, 0.0, 0.0, 0.0, 0.0, 0.0, 0.0, 0.0, 0.0, 0.0, 0.0, 0.0, 0.0, 0.0, 0.0, 0.0, 0.0, 0.0, 0.0, 0.0, 0.0, 0.0, 0.0, 0.0, 0.0, 0.0, 0.0, 0.0, 0.0, 0.0, 0.0, 0.0, 0.0, 0.0, 0.0, 0.0, 0.0, 0.0, 0.0, 0.0, 0.0, 0.0, 0.0], 'accuracy': [0.2045646607875824, 0.2045646607875824, 0.2045646607875824, 0.2045646607875824, 0.2045646607875824, 0.2045646607875824, 0.2045646607875824, 0.2045646607875824, 0.2045646607875824, 0.2045646607875824, 0.2045646607875824, 0.2045646607875824, 0.2045646607875824, 0.2045646607875824, 0.2045646607875824, 0.2045646607875824, 0.2045646607875824, 0.2045646607875824, 0.2045646607875824, 0.2045646607875824, 0.2045646607875824, 0.2045646607875824, 0.2045646607875824, 0.2045646607875824, 0.2045646607875824, 0.2045646607875824, 0.2045646607875824, 0.2045646607875824, 0.2045646607875824, 0.2045646607875824, 0.2045646607875824, 0.2045646607875824, 0.2045646607875824, 0.2045646607875824, 0.2045646607875824, 0.2045646607875824, 0.2045646607875824, 0.2045646607875824, 0.2045646607875824, 0.2045646607875824, 0.2045646607875824, 0.2045646607875824, 0.2045646607875824, 0.2045646607875824, 0.2045646607875824], 'val_loss': [0.0, 0.0, 0.0, 0.0, 0.0, 0.0, 0.0, 0.0, 0.0, 0.0, 0.0, 0.0, 0.0, 0.0, 0.0, 0.0, 0.0, 0.0, 0.0, 0.0, 0.0, 0.0, 0.0, 0.0, 0.0, 0.0, 0.0, 0.0, 0.0, 0.0, 0.0, 0.0, 0.0, 0.0, 0.0, 0.0, 0.0, 0.0, 0.0, 0.0, 0.0, 0.0, 0.0, 0.0, 0.0], 'val_accuracy': [0.18577075004577637, 0.18577075004577637, 0.18577075004577637, 0.18577075004577637, 0.18577075004577637, 0.18577075004577637, 0.18577075004577637, 0.18577075004577637, 0.18577075004577637, 0.18577075004577637, 0.18577075004577637, 0.18577075004577637, 0.18577075004577637, 0.18577075004577637, 0.18577075004577637, 0.18577075004577637, 0.18577075004577637, 0.18577075004577637, 0.18577075004577637, 0.18577075004577637, 0.18577075004577637, 0.18577075004577637, 0.18577075004577637, 0.18577075004577637, 0.18577075004577637, 0.18577075004577637, 0.18577075004577637, 0.18577075004577637, 0.18577075004577637, 0.18577075004577637, 0.18577075004577637, 0.18577075004577637, 0.18577075004577637, 0.18577075004577637, 0.18577075004577637, 0.18577075004577637, 0.18577075004577637, 0.18577075004577637, 0.18577075004577637, 0.18577075004577637, 0.18577075004577637, 0.18577075004577637, 0.18577075004577637, 0.18577075004577637, 0.18577075004577637]}\n"
     ]
    }
   ],
   "source": [
    "print(hist.history)"
   ]
  },
  {
   "cell_type": "code",
   "execution_count": 270,
   "id": "49631b47-cb68-4227-bd2d-6ceed9f2e39e",
   "metadata": {},
   "outputs": [
    {
     "data": {
      "image/png": "[encoded data removed]",
      "text/plain": [
       "<Figure size 432x288 with 1 Axes>"
      ]
     },
     "metadata": {
      "needs_background": "light"
     },
     "output_type": "display_data"
    }
   ],
   "source": [
    "# graphing the accuracy \n",
    "plt.plot(hist.history['accuracy'])\n",
    "plt.plot(hist.history['val_accuracy'])\n",
    "plt.title('Model accuracy')\n",
    "plt.ylabel('Accuracy')\n",
    "plt.xlabel('Epoch')\n",
    "plt.legend(['Train', 'Val'], loc='lower right')\n",
    "plt.show()"
   ]
  },
  {
   "cell_type": "code",
   "execution_count": null,
   "id": "c4714c87-5030-4055-ab97-31f309538936",
   "metadata": {},
   "outputs": [],
   "source": []
  },
  {
   "cell_type": "code",
   "execution_count": null,
   "id": "6376b5d6-92e9-4805-bc23-357a99f9426f",
   "metadata": {},
   "outputs": [],
   "source": []
  },
  {
   "cell_type": "code",
   "execution_count": null,
   "id": "273d34d0-9ee7-4fc7-8475-7fa3655159e4",
   "metadata": {},
   "outputs": [],
   "source": []
  },
  {
   "cell_type": "code",
   "execution_count": null,
   "id": "09311b9c-bf14-480f-ad32-5b93b5049f1b",
   "metadata": {},
   "outputs": [],
   "source": []
  },
  {
   "cell_type": "code",
   "execution_count": null,
   "id": "014d2b10-5d7e-4f18-8b72-fc9850911d17",
   "metadata": {},
   "outputs": [],
   "source": []
  },
  {
   "cell_type": "code",
   "execution_count": null,
   "id": "8a83a8c7-aa36-413a-8c8d-791ae2720c25",
   "metadata": {},
   "outputs": [],
   "source": []
  }
 ],
 "metadata": {
  "kernelspec": {
   "display_name": "Python 3",
   "language": "python",
   "name": "python3"
  },
  "language_info": {
   "codemirror_mode": {
    "name": "ipython",
    "version": 3
   },
   "file_extension": ".py",
   "mimetype": "text/x-python",
   "name": "python",
   "nbconvert_exporter": "python",
   "pygments_lexer": "ipython3",
   "version": "3.8.1"
  }
 },
 "nbformat": 4,
 "nbformat_minor": 5
}
